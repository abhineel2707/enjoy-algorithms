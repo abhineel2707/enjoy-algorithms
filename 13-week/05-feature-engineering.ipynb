{
 "cells": [
  {
   "cell_type": "code",
   "execution_count": 2,
   "metadata": {},
   "outputs": [],
   "source": [
    "from sklearn.feature_extraction import DictVectorizer"
   ]
  },
  {
   "cell_type": "code",
   "execution_count": 3,
   "metadata": {},
   "outputs": [
    {
     "name": "stdout",
     "output_type": "stream",
     "text": [
      "[[1125000       4       0       1       0]\n",
      " [1000000       3       1       0       0]\n",
      " [ 750000       3       0       0       1]\n",
      " [ 800000       2       1       0       0]\n",
      " [ 850000       2       0       1       0]]\n"
     ]
    }
   ],
   "source": [
    "vec = DictVectorizer(sparse= False, dtype=int)\n",
    "\n",
    "data = [\n",
    "    {'price': 1125000, 'rooms': 4, 'state': 'New York'},\n",
    "    {'price': 1000000, 'rooms': 3, 'state': 'California'},\n",
    "    {'price': 750000, 'rooms': 3, 'state': 'Washington'},\n",
    "    {'price': 800000, 'rooms': 2, 'state': 'California'},\n",
    "    {'price': 850000, 'rooms': 2, 'state': 'New York'},\n",
    "]\n",
    "\n",
    "new_data = vec.fit_transform(data)\n",
    "print(new_data)"
   ]
  },
  {
   "cell_type": "code",
   "execution_count": null,
   "metadata": {},
   "outputs": [],
   "source": []
  }
 ],
 "metadata": {
  "kernelspec": {
   "display_name": "py39",
   "language": "python",
   "name": "python3"
  },
  "language_info": {
   "codemirror_mode": {
    "name": "ipython",
    "version": 3
   },
   "file_extension": ".py",
   "mimetype": "text/x-python",
   "name": "python",
   "nbconvert_exporter": "python",
   "pygments_lexer": "ipython3",
   "version": "3.9.13"
  }
 },
 "nbformat": 4,
 "nbformat_minor": 2
}
