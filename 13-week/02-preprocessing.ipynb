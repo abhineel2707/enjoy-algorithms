{
 "cells": [
  {
   "cell_type": "code",
   "execution_count": 1,
   "metadata": {},
   "outputs": [],
   "source": [
    "import numpy as np\n",
    "from sklearn.impute import SimpleImputer"
   ]
  },
  {
   "cell_type": "code",
   "execution_count": null,
   "metadata": {},
   "outputs": [
    {
     "name": "stdout",
     "output_type": "stream",
     "text": [
      "Original Data: \n",
      "[[19. 18. nan 26.]\n",
      " [85. 53. 76. 45.]\n",
      " [83. 97.  1. nan]\n",
      " [73. 28. 38. 37.]\n",
      " [87. nan 86. 66.]\n",
      " [23. 28. 11. 10.]]\n",
      "True\n",
      "New Data:\n",
      "[[19. 18. 38. 26.]\n",
      " [85. 53. 76. 45.]\n",
      " [83. 97.  1. 37.]\n",
      " [73. 28. 38. 37.]\n",
      " [87. 28. 86. 66.]\n",
      " [23. 28. 11. 10.]]\n"
     ]
    }
   ],
   "source": [
    "data = np.array(\n",
    "    [\n",
    "        [19, 18, np.NaN, 26],\n",
    "        [85, 53, 76, 45],\n",
    "        [83, 97, 1, np.NaN],\n",
    "        [73, 28, 38, 37],\n",
    "        [87, np.NaN, 86, 66],\n",
    "        [23, 28, 11, 10],\n",
    "    ]\n",
    ")\n",
    "print(\"Original Data: \")\n",
    "print(data)\n",
    "print(np.isnan(data).any())  # Check if there is any NaN value in that array\n",
    "imp = SimpleImputer(\n",
    "    strategy=\"median\"\n",
    ")  # Specifies that missing values should be replaced with the median value of each column\n",
    "\n",
    "# fit: Calculates the median of each column (ignoring NaN values)\n",
    "# transform: Replaces all NaN values with their respective column medians\n",
    "# col1: [18, 53, 97, 28, NaN, 28]\n",
    "# ascending order: [18, 28, 28, 53, 97]\n",
    "# median is 28 and that would replace NaN value in col1\n",
    "data_new = imp.fit_transform(data)\n",
    "print(\"New Data:\")\n",
    "print(data_new)"
   ]
  },
  {
   "cell_type": "code",
   "execution_count": null,
   "metadata": {},
   "outputs": [],
   "source": []
  }
 ],
 "metadata": {
  "kernelspec": {
   "display_name": "py39",
   "language": "python",
   "name": "python3"
  },
  "language_info": {
   "codemirror_mode": {
    "name": "ipython",
    "version": 3
   },
   "file_extension": ".py",
   "mimetype": "text/x-python",
   "name": "python",
   "nbconvert_exporter": "python",
   "pygments_lexer": "ipython3",
   "version": "3.9.13"
  }
 },
 "nbformat": 4,
 "nbformat_minor": 2
}
