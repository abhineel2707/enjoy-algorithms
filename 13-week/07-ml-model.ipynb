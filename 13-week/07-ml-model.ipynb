{
 "cells": [
  {
   "cell_type": "code",
   "execution_count": 2,
   "metadata": {},
   "outputs": [],
   "source": [
    "from sklearn.datasets import load_iris\n",
    "from sklearn.model_selection import train_test_split\n",
    "from sklearn.impute import SimpleImputer\n",
    "from sklearn.preprocessing import StandardScaler\n",
    "from sklearn.decomposition import PCA\n",
    "from sklearn.pipeline import Pipeline\n",
    "from sklearn.svm import SVC\n",
    "import numpy as np"
   ]
  },
  {
   "cell_type": "code",
   "execution_count": 5,
   "metadata": {},
   "outputs": [
    {
     "name": "stdout",
     "output_type": "stream",
     "text": [
      "SVM performance on Iris Classification: 0.9333333333333333\n"
     ]
    }
   ],
   "source": [
    "iris = load_iris()\n",
    "iris_data = iris.data.copy()\n",
    "iris_target = iris.target\n",
    "\n",
    "c = 10\n",
    "mask = np.ones(iris_data.shape)\n",
    "mask.ravel()[np.random.choice(mask.size, c, replace=False)] = 0\n",
    "\n",
    "iris_data[mask == 0] = np.NaN\n",
    "\n",
    "X_train, X_test, y_train, y_test = train_test_split(\n",
    "    iris_data, iris_target, test_size=0.3, random_state=42\n",
    ")\n",
    "\n",
    "pipeline = Pipeline(\n",
    "    [\n",
    "        (\"Imputer\", SimpleImputer(strategy=\"mean\")),\n",
    "        (\"Scaler\", StandardScaler()),\n",
    "        (\"PCA\", PCA(n_components=2)),\n",
    "        (\"SVC\", SVC(kernel=\"linear\")),\n",
    "    ]\n",
    ")\n",
    "\n",
    "model = pipeline.fit(X_train, y_train)\n",
    "\n",
    "print(f\"SVM performance on Iris Classification: {model.score(X_test, y_test)}\")\n",
    "\n",
    "imputer_output = model.named_steps[\"Imputer\"].transform(X_train)\n",
    "scaler_output = model.named_steps[\"Scaler\"].transform(imputer_output)\n",
    "pca_output = model.named_steps[\"PCA\"].transform(scaler_output)\n",
    "model_output = model.named_steps[\"SVC\"].predict(pca_output)"
   ]
  }
 ],
 "metadata": {
  "kernelspec": {
   "display_name": "py39",
   "language": "python",
   "name": "python3"
  },
  "language_info": {
   "codemirror_mode": {
    "name": "ipython",
    "version": 3
   },
   "file_extension": ".py",
   "mimetype": "text/x-python",
   "name": "python",
   "nbconvert_exporter": "python",
   "pygments_lexer": "ipython3",
   "version": "3.9.13"
  }
 },
 "nbformat": 4,
 "nbformat_minor": 2
}
