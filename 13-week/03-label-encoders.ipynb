{
 "cells": [
  {
   "cell_type": "code",
   "execution_count": 2,
   "metadata": {},
   "outputs": [],
   "source": [
    "import numpy as np\n",
    "import pandas as pd\n",
    "from sklearn.preprocessing import LabelEncoder"
   ]
  },
  {
   "cell_type": "code",
   "execution_count": 3,
   "metadata": {},
   "outputs": [
    {
     "name": "stdout",
     "output_type": "stream",
     "text": [
      "Dataset Length: 14\n",
      "Dataset Shape: (14, 5)\n",
      "     Outlook Temperature Humidity    Wind Play Tennis\n",
      "0      Sunny         Hot     High    Weak          No\n",
      "1      Sunny         Hot     High  Strong          No\n",
      "2   Overcast         Hot     High    Weak         Yes\n",
      "3       Rain        Mild     High    Weak         Yes\n",
      "4       Rain        Cool   Normal    Weak         Yes\n",
      "5       Rain        Cool   Normal  Strong          No\n",
      "6   Overcast        Cool   Normal  Strong         Yes\n",
      "7      Sunny        Mild     High    Weak          No\n",
      "8      Sunny        Cool   Normal    Weak         Yes\n",
      "9       Rain        Mild   Normal    Weak         Yes\n",
      "10     Sunny        Mild   Normal  Strong         Yes\n",
      "11  Overcast        Mild     High  Strong         Yes\n",
      "12  Overcast         Hot   Normal    Weak         Yes\n",
      "13      Rain        Mild     High  Strong          No\n"
     ]
    }
   ],
   "source": [
    "PlayTennis = pd.read_csv(\"./PlayTennis.csv\", header=0, skiprows=0)\n",
    "print(f\"Dataset Length: {len(PlayTennis)}\")\n",
    "print(f\"Dataset Shape: {PlayTennis.shape}\")\n",
    "print(PlayTennis)"
   ]
  },
  {
   "cell_type": "code",
   "execution_count": 4,
   "metadata": {},
   "outputs": [
    {
     "name": "stdout",
     "output_type": "stream",
     "text": [
      "    Outlook  Temperature  Humidity  Wind  Play Tennis\n",
      "0         2            1         0     1            0\n",
      "1         2            1         0     0            0\n",
      "2         0            1         0     1            1\n",
      "3         1            2         0     1            1\n",
      "4         1            0         1     1            1\n",
      "5         1            0         1     0            0\n",
      "6         0            0         1     0            1\n",
      "7         2            2         0     1            0\n",
      "8         2            0         1     1            1\n",
      "9         1            2         1     1            1\n",
      "10        2            2         1     0            1\n",
      "11        0            2         0     0            1\n",
      "12        0            1         1     1            1\n",
      "13        1            2         0     0            0\n"
     ]
    }
   ],
   "source": [
    "Le = LabelEncoder()\n",
    "for label in PlayTennis.columns:\n",
    "    PlayTennis[label] = Le.fit_transform(PlayTennis[label])\n",
    "\n",
    "print(PlayTennis)"
   ]
  },
  {
   "cell_type": "code",
   "execution_count": null,
   "metadata": {},
   "outputs": [],
   "source": []
  }
 ],
 "metadata": {
  "kernelspec": {
   "display_name": "py39",
   "language": "python",
   "name": "python3"
  },
  "language_info": {
   "codemirror_mode": {
    "name": "ipython",
    "version": 3
   },
   "file_extension": ".py",
   "mimetype": "text/x-python",
   "name": "python",
   "nbconvert_exporter": "python",
   "pygments_lexer": "ipython3",
   "version": "3.9.13"
  }
 },
 "nbformat": 4,
 "nbformat_minor": 2
}
